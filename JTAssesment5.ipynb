{
  "nbformat": 4,
  "nbformat_minor": 0,
  "metadata": {
    "colab": {
      "name": "JTAssesment5.ipynb",
      "provenance": [],
      "authorship_tag": "ABX9TyMNEayiOQR2w+6IbU7dwp1C",
      "include_colab_link": true
    },
    "kernelspec": {
      "name": "python3",
      "display_name": "Python 3"
    },
    "language_info": {
      "name": "python"
    }
  },
  "cells": [
    {
      "cell_type": "markdown",
      "metadata": {
        "id": "view-in-github",
        "colab_type": "text"
      },
      "source": [
        "<a href=\"https://colab.research.google.com/github/josetorresKS/TECHIS-JS-JTCollabAssesment/blob/main/JTAssesment5.ipynb\" target=\"_parent\"><img src=\"https://colab.research.google.com/assets/colab-badge.svg\" alt=\"Open In Colab\"/></a>"
      ]
    },
    {
      "cell_type": "code",
      "source": [
        "#Full name capitalize \n",
        "\n",
        "first = input(\"First Name:\")\n",
        "last = input(\"Last Name:\")\n",
        "fullName = first.capitalize() + \" \" + last.capitalize()\n",
        "print(\"My name is \" + fullName) "
      ],
      "metadata": {
        "colab": {
          "base_uri": "https://localhost:8080/"
        },
        "id": "ii9tRglNjy9S",
        "outputId": "4cb43f2d-32a0-436e-a3a4-86d32a0bfe94"
      },
      "execution_count": null,
      "outputs": [
        {
          "output_type": "stream",
          "name": "stdout",
          "text": [
            "First Name:jose\n",
            "Last Name:torres\n",
            "My name is Jose Torres\n"
          ]
        }
      ]
    },
    {
      "cell_type": "code",
      "source": [
        "# Score-Runnerup\n",
        "\n",
        "n=int(input(\"How many numbers:\"))\n",
        "\n",
        "for i in range(0,n):\n",
        "  number=int(input(\"Enter Number:\"))\n",
        "  A.append(number)\n",
        "A.sort()\n",
        "A = list(dict.fromkeys(A))\n",
        "print(\"New List\", A)\n",
        "print(\"Runner up score:\", A[-2])\n"
      ],
      "metadata": {
        "colab": {
          "base_uri": "https://localhost:8080/"
        },
        "id": "YiEvyQt0ivaC",
        "outputId": "f9a755f1-ac7e-4172-ce86-0b1cf81ae201"
      },
      "execution_count": null,
      "outputs": [
        {
          "output_type": "stream",
          "name": "stdout",
          "text": [
            "How many numbers:3\n",
            "Enter Number:2\n",
            "Enter Number:4\n",
            "Enter Number:6\n",
            "New List [2, 4, 6]\n",
            "Runner up score: 4\n"
          ]
        }
      ]
    },
    {
      "cell_type": "code",
      "source": [
        "#symetric_diffrence\n",
        "\n",
        "s1 = set(input())\n",
        "s2 = set(input())\n",
        "s3 = s1.symmetric_difference(s2)\n",
        "print(sorted(s3))"
      ],
      "metadata": {
        "id": "GkOY4zpnEbci"
      },
      "execution_count": null,
      "outputs": []
    }
  ]
}